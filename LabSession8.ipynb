{
 "cells": [
  {
   "cell_type": "code",
   "execution_count": 2,
   "metadata": {},
   "outputs": [
    {
     "name": "stdout",
     "output_type": "stream",
     "text": [
      "Original Dimensions :  (518, 906, 3)\n",
      "Resized Dimensions :  (400, 400, 3)\n",
      "Original Dimensions :  (360, 480, 3)\n",
      "Resized Dimensions :  (400, 400, 3)\n"
     ]
    }
   ],
   "source": [
    "import cv2\n",
    "import os\n",
    "import numpy as np\n",
    "\n",
    "IMG_DIR = 'dataset/'\n",
    "\n",
    "def resize_images(path):\n",
    "    for file in range (1,3):\n",
    "        img = cv2.imread(path + str(file) + '.jpg')\n",
    " \n",
    "        print('Original Dimensions : ',img.shape)\n",
    "        \n",
    "        resized = cv2.resize(img, (400,400), interpolation = cv2.INTER_LINEAR)\n",
    " \n",
    "        print('Resized Dimensions : ',resized.shape)\n",
    "        \n",
    "        cv2.imwrite('resized/' + str(file) + '.jpg',resized)\n",
    "\n",
    "#calling the func        \n",
    "resize_images(IMG_DIR)\n",
    "\n",
    "def rotate_images(path):\n",
    "    for file in range (4,6):\n",
    "        \n",
    "        img = cv2.imread(path + str(file) + '.jpg')\n",
    "        \n",
    "        img_rotate = cv2.rotate(img, cv2.ROTATE_90_CLOCKWISE)\n",
    "        \n",
    "        cv2.imwrite('rotated/' + str(file) + '.jpg',img_rotate)\n",
    "\n",
    "#calling the func           \n",
    "rotate_images(IMG_DIR)\n",
    "\n",
    "def translate_images(path):\n",
    "    for file in range (7,9):\n",
    "        \n",
    "        img = cv2.imread(path + str(file) + '.jpg')\n",
    "        \n",
    "        height, width = img.shape[:2]\n",
    "        \n",
    "        quarter_height, quarter_width = height / 4, width / 4\n",
    "        \n",
    "        T = np.float32([[1, 0, quarter_width], [0, 1, quarter_height]])\n",
    "        \n",
    "        img_translation = cv2.warpAffine(img, T, (width, height))\n",
    "        \n",
    "        cv2.imwrite('translated/' + str(file) + '.jpg',img_translation)\n",
    "\n",
    "#calling the func           \n",
    "translate_images(IMG_DIR)"
   ]
  },
  {
   "cell_type": "code",
   "execution_count": null,
   "metadata": {},
   "outputs": [],
   "source": []
  }
 ],
 "metadata": {
  "kernelspec": {
   "display_name": "Python 3",
   "language": "python",
   "name": "python3"
  },
  "language_info": {
   "codemirror_mode": {
    "name": "ipython",
    "version": 3
   },
   "file_extension": ".py",
   "mimetype": "text/x-python",
   "name": "python",
   "nbconvert_exporter": "python",
   "pygments_lexer": "ipython3",
   "version": "3.8.3"
  }
 },
 "nbformat": 4,
 "nbformat_minor": 4
}
